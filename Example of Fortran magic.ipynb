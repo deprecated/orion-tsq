{
 "metadata": {
  "name": ""
 },
 "nbformat": 3,
 "nbformat_minor": 0,
 "worksheets": [
  {
   "cells": [
    {
     "cell_type": "code",
     "collapsed": false,
     "input": [
      "%load_ext fortranmagic"
     ],
     "language": "python",
     "metadata": {},
     "outputs": [
      {
       "javascript": [
        "$.getScript(\"https://raw.github.com/marijnh/CodeMirror/master/mode/fortran/fortran.js\", function () {\n",
        "IPython.config.cell_magic_highlight['magic_fortran'] = {'reg':[/^%%fortran/]};});\n"
       ],
       "metadata": {},
       "output_type": "display_data"
      }
     ],
     "prompt_number": 1
    },
    {
     "cell_type": "code",
     "collapsed": false,
     "input": [
      "%%fortran\n",
      "\n",
      "       subroutine f1(x, y, z)\n",
      "            real, intent(in) :: x,y\n",
      "            real, intent(out) :: z\n",
      "\n",
      "            z = sin(x+y)\n",
      "\n",
      "       end subroutine f1"
     ],
     "language": "python",
     "metadata": {},
     "outputs": [
      {
       "output_type": "stream",
       "stream": "stdout",
       "text": [
        "\tBuilding module \"_fortran_magic_b66b851b11bcf431d18f6b45ce322264\"...\n",
        "\t\tConstructing wrapper function \"f1\"...\n",
        "\t\t  z = f1(x,y)\n",
        "\tWrote C/API module \"_fortran_magic_b66b851b11bcf431d18f6b45ce322264\" to file \"/var/folders/rm/hnrktx9s22g8sbms445k0z000000gn/T/tmphmxk9x/src.macosx-10.5-x86_64-3.3/_fortran_magic_b66b851b11bcf431d18f6b45ce322264module.c\"\n"
       ]
      }
     ],
     "prompt_number": 2
    },
    {
     "cell_type": "code",
     "collapsed": false,
     "input": [
      "f1(1.0, 2.1415)"
     ],
     "language": "python",
     "metadata": {},
     "outputs": [
      {
       "metadata": {},
       "output_type": "pyout",
       "prompt_number": 3,
       "text": [
        "9.26574066397734e-05"
       ]
      }
     ],
     "prompt_number": 3
    },
    {
     "cell_type": "code",
     "collapsed": false,
     "input": [
      "print(f1.__doc__)"
     ],
     "language": "python",
     "metadata": {},
     "outputs": [
      {
       "output_type": "stream",
       "stream": "stdout",
       "text": [
        "z = f1(x,y)\n",
        "\n",
        "Wrapper for ``f1``.\n",
        "\n",
        "Parameters\n",
        "----------\n",
        "x : input float\n",
        "y : input float\n",
        "\n",
        "Returns\n",
        "-------\n",
        "z : float\n",
        "\n"
       ]
      }
     ],
     "prompt_number": 5
    },
    {
     "cell_type": "code",
     "collapsed": false,
     "input": [],
     "language": "python",
     "metadata": {},
     "outputs": []
    }
   ],
   "metadata": {}
  }
 ]
}