{
 "metadata": {
  "name": ""
 },
 "nbformat": 3,
 "nbformat_minor": 0,
 "worksheets": [
  {
   "cells": [
    {
     "cell_type": "code",
     "collapsed": false,
     "input": [
      "from IPython.nbformat import current\n",
      "\n",
      "with open('WFC3 images exploration.ipynb') as f:\n",
      "    nb = current.read(f, 'json')"
     ],
     "language": "python",
     "metadata": {},
     "outputs": [],
     "prompt_number": 1
    },
    {
     "cell_type": "code",
     "collapsed": false,
     "input": [
      "import copy\n",
      "nb2 = copy.deepcopy(nb)"
     ],
     "language": "python",
     "metadata": {},
     "outputs": [],
     "prompt_number": 3
    },
    {
     "cell_type": "code",
     "collapsed": false,
     "input": [
      "ws = nb.worksheets[0]\n",
      "ws2 = nb2.worksheets[0]"
     ],
     "language": "python",
     "metadata": {},
     "outputs": [],
     "prompt_number": 4
    },
    {
     "cell_type": "markdown",
     "metadata": {},
     "source": [
      "Get a list of the cells that start different sections"
     ]
    },
    {
     "cell_type": "code",
     "collapsed": false,
     "input": [
      "for i, c in enumerate(ws.cells):\n",
      "    if c.cell_type == 'markdown' and c.source.startswith('#'):\n",
      "        print(i, c.source)"
     ],
     "language": "python",
     "metadata": {},
     "outputs": [
      {
       "output_type": "stream",
       "stream": "stdout",
       "text": [
        "33 ### The [S II] density map\n",
        "40 ## Translate from ratio to Temperature\n",
        "48 ### Logarithmic sensitivity of R([N II]) to T and n\n",
        "53 ### Extinction correction\n",
        "59 ### Check trend with density\n",
        "67 ### Look at trend with brightness\n",
        "73 ## Finally get on to the spatial scale\n",
        "100 ### Calculate radius from theta 1 C to detrend temperature\n",
        "127 #### Histogram of ratios, sorted by radius\n",
        "134 ## Look at the strong line ratios\n",
        "136 ### First create the pure line images\n",
        "142 ### The BPT diagram\n",
        "155 ### T-sensitivity of strong line ratios from pyneb\n",
        "168 ### Pyneb atomic datasets\n",
        "171 ## Extinction with foreground emission\n"
       ]
      }
     ],
     "prompt_number": 21
    },
    {
     "cell_type": "markdown",
     "metadata": {},
     "source": [
      "## Start peeling off from the end into separate worksheets"
     ]
    },
    {
     "cell_type": "markdown",
     "metadata": {},
     "source": [
      "First the extinction section"
     ]
    },
    {
     "cell_type": "code",
     "collapsed": false,
     "input": [
      "ws.cells = ws.cells[:171]\n",
      "ws2.cells = ws2.cells[171:]\n",
      "with open('Extinction with foreground emission.ipynb', 'w') as f:\n",
      "    current.write(nb2, f, 'json')"
     ],
     "language": "python",
     "metadata": {},
     "outputs": [],
     "prompt_number": 22
    },
    {
     "cell_type": "markdown",
     "metadata": {},
     "source": [
      "Second the strong line ratio stuff"
     ]
    },
    {
     "cell_type": "code",
     "collapsed": false,
     "input": [
      "nb2 = copy.deepcopy(nb)\n",
      "ws2 = nb2.worksheets[0]"
     ],
     "language": "python",
     "metadata": {},
     "outputs": [],
     "prompt_number": 24
    },
    {
     "cell_type": "code",
     "collapsed": false,
     "input": [
      "ws.cells = ws.cells[:134]\n",
      "ws2.cells = ws2.cells[134:]\n",
      "with open('Strong line ratios.ipynb', 'w') as f:\n",
      "    current.write(nb2, f, 'json')"
     ],
     "language": "python",
     "metadata": {},
     "outputs": [],
     "prompt_number": 25
    },
    {
     "cell_type": "markdown",
     "metadata": {},
     "source": [
      "Third the spatial scale stuff"
     ]
    },
    {
     "cell_type": "code",
     "collapsed": false,
     "input": [
      "nb2 = copy.deepcopy(nb)\n",
      "ws2 = nb2.worksheets[0]"
     ],
     "language": "python",
     "metadata": {},
     "outputs": [],
     "prompt_number": 26
    },
    {
     "cell_type": "code",
     "collapsed": false,
     "input": [
      "ws.cells = ws.cells[:73]\n",
      "ws2.cells = ws2.cells[73:]\n",
      "with open('Tsq spatial scale.ipynb', 'w') as f:\n",
      "    current.write(nb2, f, 'json')"
     ],
     "language": "python",
     "metadata": {},
     "outputs": [],
     "prompt_number": 27
    },
    {
     "cell_type": "markdown",
     "metadata": {},
     "source": [
      "And what is left save write back to the original name:"
     ]
    },
    {
     "cell_type": "code",
     "collapsed": false,
     "input": [
      "with open('WFC3 images exploration.ipynb', 'w') as f:\n",
      "    current.write(nb, f, 'json')"
     ],
     "language": "python",
     "metadata": {},
     "outputs": [],
     "prompt_number": 29
    },
    {
     "cell_type": "code",
     "collapsed": false,
     "input": [],
     "language": "python",
     "metadata": {},
     "outputs": []
    }
   ],
   "metadata": {}
  }
 ]
}